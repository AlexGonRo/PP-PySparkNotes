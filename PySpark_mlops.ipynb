{
 "cells": [
  {
   "cell_type": "markdown",
   "id": "85fc2d17-f2e8-4134-8a80-44f49c5778dc",
   "metadata": {},
   "source": [
    "# PYSPARK MLOPs"
   ]
  },
  {
   "cell_type": "markdown",
   "id": "c790bbe5-c7c7-4a11-b407-5c0fffcf74e1",
   "metadata": {},
   "source": [
    "Here I will go through the basic operations of the MLOps library for Spark."
   ]
  },
  {
   "cell_type": "markdown",
   "id": "fb92ae95-f2d4-4ae9-9399-37e04e5a3a74",
   "metadata": {},
   "source": [
    "As always, let us create a Spark session and load the dataset.\n",
    "Dataset from: https://www.kaggle.com/datasets/uciml/mushroom-classification"
   ]
  },
  {
   "cell_type": "code",
   "execution_count": 1,
   "id": "514cc9f9-1e7b-45ab-9a86-b25856d60979",
   "metadata": {},
   "outputs": [
    {
     "name": "stderr",
     "output_type": "stream",
     "text": [
      "25/04/24 14:28:10 WARN Utils: Your hostname, alejandro resolves to a loopback address: 127.0.1.1; using 192.168.3.37 instead (on interface wlp2s0)\n",
      "25/04/24 14:28:10 WARN Utils: Set SPARK_LOCAL_IP if you need to bind to another address\n",
      "Setting default log level to \"WARN\".\n",
      "To adjust logging level use sc.setLogLevel(newLevel). For SparkR, use setLogLevel(newLevel).\n",
      "25/04/24 14:28:11 WARN NativeCodeLoader: Unable to load native-hadoop library for your platform... using builtin-java classes where applicable\n"
     ]
    },
    {
     "name": "stdout",
     "output_type": "stream",
     "text": [
      "root\n",
      " |-- class: string (nullable = true)\n",
      " |-- cap-shape: string (nullable = true)\n",
      " |-- cap-surface: string (nullable = true)\n",
      " |-- cap-color: string (nullable = true)\n",
      " |-- bruises: string (nullable = true)\n",
      " |-- odor: string (nullable = true)\n",
      " |-- gill-attachment: string (nullable = true)\n",
      " |-- gill-spacing: string (nullable = true)\n",
      " |-- gill-size: string (nullable = true)\n",
      " |-- gill-color: string (nullable = true)\n",
      " |-- stalk-shape: string (nullable = true)\n",
      " |-- stalk-root: string (nullable = true)\n",
      " |-- stalk-surface-above-ring: string (nullable = true)\n",
      " |-- stalk-surface-below-ring: string (nullable = true)\n",
      " |-- stalk-color-above-ring: string (nullable = true)\n",
      " |-- stalk-color-below-ring: string (nullable = true)\n",
      " |-- veil-type: string (nullable = true)\n",
      " |-- veil-color: string (nullable = true)\n",
      " |-- ring-number: string (nullable = true)\n",
      " |-- ring-type: string (nullable = true)\n",
      " |-- spore-print-color: string (nullable = true)\n",
      " |-- population: string (nullable = true)\n",
      " |-- habitat: string (nullable = true)\n",
      "\n"
     ]
    }
   ],
   "source": [
    "from pyspark.sql import SparkSession\n",
    "\n",
    "spark = (\n",
    "   SparkSession.builder.appName('Spark Demo') \n",
    "  .master('local[*]') #local[*] - Run Spark locally with as many worker threads as logical cores on your machine. I could choose any number really\n",
    "                    # YARN when deploying to a cluster with YARN\n",
    "  .config(\"spark.sql.execution.arrow.maxRecordsPerBatch\", \"100\")  # For testing purposes\n",
    "  .getOrCreate()\n",
    ")\n",
    "\n",
    "data_path = 'data/mushrooms.csv'\n",
    "mush_df = spark.read.csv(data_path, inferSchema=True, header=True)\n",
    "mush_df.printSchema()\n"
   ]
  },
  {
   "cell_type": "markdown",
   "id": "29f348ca-63fd-4f29-9c1a-1452e6fde15f",
   "metadata": {},
   "source": [
    "Important imports"
   ]
  },
  {
   "cell_type": "code",
   "execution_count": 2,
   "id": "91560a3f-e49f-45ef-b624-232db092797d",
   "metadata": {},
   "outputs": [],
   "source": [
    "from pyspark.sql import functions as F"
   ]
  },
  {
   "cell_type": "markdown",
   "id": "73e6d720-0bef-4702-8c0c-f7283f368c96",
   "metadata": {},
   "source": [
    "Let's make sure there are no import values"
   ]
  },
  {
   "cell_type": "code",
   "execution_count": 3,
   "id": "f1a417c1-0d43-4fea-8039-954ea5573253",
   "metadata": {},
   "outputs": [
    {
     "name": "stderr",
     "output_type": "stream",
     "text": [
      "[Stage 2:>                                                          (0 + 1) / 1]"
     ]
    },
    {
     "name": "stdout",
     "output_type": "stream",
     "text": [
      "+-----+---------+-----------+---------+-------+----+---------------+------------+---------+----------+-----------+----------+------------------------+------------------------+----------------------+----------------------+---------+----------+-----------+---------+-----------------+----------+-------+\n",
      "|class|cap-shape|cap-surface|cap-color|bruises|odor|gill-attachment|gill-spacing|gill-size|gill-color|stalk-shape|stalk-root|stalk-surface-above-ring|stalk-surface-below-ring|stalk-color-above-ring|stalk-color-below-ring|veil-type|veil-color|ring-number|ring-type|spore-print-color|population|habitat|\n",
      "+-----+---------+-----------+---------+-------+----+---------------+------------+---------+----------+-----------+----------+------------------------+------------------------+----------------------+----------------------+---------+----------+-----------+---------+-----------------+----------+-------+\n",
      "|    0|        0|          0|        0|      0|   0|              0|           0|        0|         0|          0|         0|                       0|                       0|                     0|                     0|        0|         0|          0|        0|                0|         0|      0|\n",
      "+-----+---------+-----------+---------+-------+----+---------------+------------+---------+----------+-----------+----------+------------------------+------------------------+----------------------+----------------------+---------+----------+-----------+---------+-----------------+----------+-------+\n",
      "\n"
     ]
    },
    {
     "name": "stderr",
     "output_type": "stream",
     "text": [
      "                                                                                "
     ]
    }
   ],
   "source": [
    "# Number of nan values\n",
    "null_df = mush_df.select(*[F.count(F.when(F.col(c).isNull() | F.isnan(F.col(c)), c)).alias(c) for c in mush_df.columns]) # I'll be honest, I copied this one from the internet\n",
    "null_df.show()"
   ]
  },
  {
   "cell_type": "code",
   "execution_count": 13,
   "id": "0e9f0f17-db27-4740-baa6-aef3cb65bac7",
   "metadata": {},
   "outputs": [
    {
     "ename": "TypeError",
     "evalue": "bar() missing 1 required positional argument: 'height'",
     "output_type": "error",
     "traceback": [
      "\u001b[0;31m---------------------------------------------------------------------------\u001b[0m",
      "\u001b[0;31mTypeError\u001b[0m                                 Traceback (most recent call last)",
      "Cell \u001b[0;32mIn[13], line 33\u001b[0m\n\u001b[1;32m     29\u001b[0m     \u001b[38;5;28;01mreturn\u001b[39;00m fig\n\u001b[1;32m     31\u001b[0m columns \u001b[38;5;241m=\u001b[39m mush_df\u001b[38;5;241m.\u001b[39mcolumns\n\u001b[0;32m---> 33\u001b[0m plot_columns_dist(mush_df, columns, math\u001b[38;5;241m.\u001b[39mceil(\u001b[38;5;28mlen\u001b[39m(columns) \u001b[38;5;241m/\u001b[39m \u001b[38;5;241m2\u001b[39m), \u001b[38;5;241m2\u001b[39m)\n",
      "Cell \u001b[0;32mIn[13], line 27\u001b[0m, in \u001b[0;36mplot_columns_dist\u001b[0;34m(df, cols, figrows, figcols, size)\u001b[0m\n\u001b[1;32m     25\u001b[0m         \u001b[38;5;28;01mbreak\u001b[39;00m\n\u001b[1;32m     26\u001b[0m     col \u001b[38;5;241m=\u001b[39m cols[i\u001b[38;5;241m*\u001b[39mfigcols \u001b[38;5;241m+\u001b[39m j]\n\u001b[0;32m---> 27\u001b[0m     plot_column_dist(df, col, ax\u001b[38;5;241m=\u001b[39maxs[i][j], size\u001b[38;5;241m=\u001b[39msize)\n\u001b[1;32m     28\u001b[0m     \u001b[38;5;66;03m#axs[i][j].set_xticklabels(axs[i][j].get_xticklabels(), rotation=30)\u001b[39;00m\n\u001b[1;32m     29\u001b[0m \u001b[38;5;28;01mreturn\u001b[39;00m fig\n",
      "Cell \u001b[0;32mIn[13], line 13\u001b[0m, in \u001b[0;36mplot_column_dist\u001b[0;34m(df, col, ax, size)\u001b[0m\n\u001b[1;32m     11\u001b[0m agg_df \u001b[38;5;241m=\u001b[39m df\u001b[38;5;241m.\u001b[39mgroupBy(col)\u001b[38;5;241m.\u001b[39magg(F\u001b[38;5;241m.\u001b[39mcount(\u001b[38;5;124m'\u001b[39m\u001b[38;5;124m*\u001b[39m\u001b[38;5;124m'\u001b[39m)\u001b[38;5;241m.\u001b[39malias(\u001b[38;5;124m'\u001b[39m\u001b[38;5;124mcount\u001b[39m\u001b[38;5;124m'\u001b[39m))\u001b[38;5;241m.\u001b[39mtoPandas()\n\u001b[1;32m     12\u001b[0m agg_df \u001b[38;5;241m=\u001b[39m agg_df\u001b[38;5;241m.\u001b[39msort_values(\u001b[38;5;124m'\u001b[39m\u001b[38;5;124mcount\u001b[39m\u001b[38;5;124m'\u001b[39m, ascending\u001b[38;5;241m=\u001b[39m\u001b[38;5;28;01mFalse\u001b[39;00m)\n\u001b[0;32m---> 13\u001b[0m plt\u001b[38;5;241m.\u001b[39mbar(data\u001b[38;5;241m=\u001b[39magg_df, x\u001b[38;5;241m=\u001b[39mcol, y\u001b[38;5;241m=\u001b[39m\u001b[38;5;124m'\u001b[39m\u001b[38;5;124mcount\u001b[39m\u001b[38;5;124m'\u001b[39m,\n\u001b[1;32m     14\u001b[0m             color\u001b[38;5;241m=\u001b[39m\u001b[38;5;124m'\u001b[39m\u001b[38;5;124m#7db0bc\u001b[39m\u001b[38;5;124m'\u001b[39m, ax\u001b[38;5;241m=\u001b[39max, size\u001b[38;5;241m=\u001b[39msize)\n",
      "\u001b[0;31mTypeError\u001b[0m: bar() missing 1 required positional argument: 'height'"
     ]
    }
   ],
   "source": [
    "import math\n",
    "# Plot data distribution of a column\n",
    "from matplotlib import pyplot as plt\n",
    "from itertools import product\n",
    "%matplotlib inline\n",
    "plt.rcParams['figure.dpi'] = 150\n",
    "\n",
    "def plot_column_dist(df, col, ax=None, size=(12, 6)):\n",
    "    if ax is None:\n",
    "        ax = plt.gca()\n",
    "    agg_df = df.groupBy(col).agg(F.count('*').alias('count')).toPandas()\n",
    "    agg_df = agg_df.sort_values('count', ascending=False)\n",
    "    plt.bar(data=agg_df, x=col, y='count',\n",
    "                color='#7db0bc', ax=ax, size=size)\n",
    "    \n",
    "def plot_columns_dist(df, cols, figrows, figcols, size=(12, 6)):\n",
    "    assert len(cols) <= figrows * figcols\n",
    "    fig, axs = plt.subplots(figrows, figcols)\n",
    "    if figrows == 1:\n",
    "        axs = [axs]\n",
    "    if figcols == 1:\n",
    "        axs = [[ax] for ax in axs]\n",
    "    for i, j in product(range(figrows), range(figcols)):\n",
    "        if i*figcols + j >= len(cols):\n",
    "            break\n",
    "        col = cols[i*figcols + j]\n",
    "        plot_column_dist(df, col, ax=axs[i][j], size=size)\n",
    "        #axs[i][j].set_xticklabels(axs[i][j].get_xticklabels(), rotation=30)\n",
    "    return fig\n",
    "\n",
    "columns = mush_df.columns\n",
    "\n",
    "plot_columns_dist(mush_df, columns, math.ceil(len(columns) / 2), 2) # Writing here a .show() gave me a lot of problems. Always the same thing with Jupyter and matplotlib\n"
   ]
  },
  {
   "cell_type": "code",
   "execution_count": null,
   "id": "8b89d891-01ca-4a48-b64c-d8ec882568b0",
   "metadata": {},
   "outputs": [],
   "source": []
  },
  {
   "cell_type": "code",
   "execution_count": null,
   "id": "81b017de-40af-4069-8554-010dd85c7174",
   "metadata": {},
   "outputs": [],
   "source": []
  },
  {
   "cell_type": "code",
   "execution_count": null,
   "id": "217de65e-f019-4e25-91d9-8628d64fdb66",
   "metadata": {},
   "outputs": [],
   "source": []
  },
  {
   "cell_type": "code",
   "execution_count": null,
   "id": "3e17f7a3-63d9-4608-bb4c-9c7acb4a27ea",
   "metadata": {},
   "outputs": [],
   "source": []
  },
  {
   "cell_type": "code",
   "execution_count": null,
   "id": "9daa2392-ad2b-44f8-abe6-795f3c051c7f",
   "metadata": {},
   "outputs": [],
   "source": []
  },
  {
   "cell_type": "code",
   "execution_count": null,
   "id": "47e0b3f3-84e1-43db-b94f-61960f02096a",
   "metadata": {},
   "outputs": [],
   "source": []
  },
  {
   "cell_type": "code",
   "execution_count": null,
   "id": "a6af6afb-2feb-4d1d-8d61-565842806645",
   "metadata": {},
   "outputs": [],
   "source": []
  },
  {
   "cell_type": "code",
   "execution_count": null,
   "id": "82cf915d-9249-4d7f-81c2-15fb3458e131",
   "metadata": {},
   "outputs": [],
   "source": []
  },
  {
   "cell_type": "code",
   "execution_count": null,
   "id": "81f356ab-5fcb-4763-a758-9cb8d82371b5",
   "metadata": {},
   "outputs": [],
   "source": []
  },
  {
   "cell_type": "code",
   "execution_count": null,
   "id": "3da433f4-11f6-4b5f-bf5f-e250a3358e26",
   "metadata": {},
   "outputs": [],
   "source": []
  },
  {
   "cell_type": "code",
   "execution_count": null,
   "id": "984e04c3-1781-4987-9221-294378f85690",
   "metadata": {},
   "outputs": [],
   "source": []
  }
 ],
 "metadata": {
  "kernelspec": {
   "display_name": "Python 3 (ipykernel)",
   "language": "python",
   "name": "python3"
  },
  "language_info": {
   "codemirror_mode": {
    "name": "ipython",
    "version": 3
   },
   "file_extension": ".py",
   "mimetype": "text/x-python",
   "name": "python",
   "nbconvert_exporter": "python",
   "pygments_lexer": "ipython3",
   "version": "3.12.0"
  }
 },
 "nbformat": 4,
 "nbformat_minor": 5
}
